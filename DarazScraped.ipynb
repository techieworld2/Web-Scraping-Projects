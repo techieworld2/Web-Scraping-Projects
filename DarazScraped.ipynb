{
 "cells": [
  {
   "cell_type": "code",
   "execution_count": 4,
   "id": "75cb5fe5",
   "metadata": {},
   "outputs": [
    {
     "name": "stdout",
     "output_type": "stream",
     "text": [
      "Page 1 scraped.\n",
      "Number Of Pages Scraped 1\n"
     ]
    }
   ],
   "source": [
    "from selenium import webdriver\n",
    "from selenium.webdriver.chrome.service import Service\n",
    "from selenium.webdriver.chrome.options import Options\n",
    "from selenium.webdriver.common.by import By\n",
    "from selenium.webdriver.support.ui import WebDriverWait\n",
    "from selenium.webdriver.support import expected_conditions as EC\n",
    "from bs4 import BeautifulSoup\n",
    "import time\n",
    "import pandas as pd\n",
    "\n",
    "chromedriver_path = 'C:\\\\Users\\\\anask\\\\Downloads\\\\chromedriver-win64\\\\chromedriver-win64\\\\chromedriver.exe'\n",
    "options = Options()\n",
    "options.add_argument(\"--headless\") \n",
    "driver = webdriver.Chrome(service=Service(chromedriver_path), options=options)\n",
    "url = \"https://www.daraz.pk/#?\"\n",
    "driver.get(url)\n",
    "\n",
    "wait = WebDriverWait(driver, 10)\n",
    "search = wait.until(EC.presence_of_element_located((By.CLASS_NAME, \"search-box__input--O34g\")))\n",
    "search.send_keys('Ear Buds')\n",
    "search_button = wait.until(EC.element_to_be_clickable((By.CLASS_NAME, \"search-box__button--1oH7\")))\n",
    "search_button.click()\n",
    "\n",
    "data = []\n",
    "page_counter = 0\n",
    "max_pages = 1\n",
    "\n",
    "while page_counter < max_pages:\n",
    "    time.sleep(5) \n",
    "    soup = BeautifulSoup(driver.page_source, 'html.parser')\n",
    "    items = soup.find_all('div', class_='buTCk')\n",
    "\n",
    "    for item in items:\n",
    "        name = item.find('div', class_='RfADt').get_text(strip=True) if item.find('div', class_='RfADt') else \"\"\n",
    "        link = item.find('div', class_='RfADt').find('a')['href'] if item.find('div', class_='RfADt') else \"\"\n",
    "        price = item.find('span', class_='ooOxS').get_text(strip=True) if item.find('span', class_='ooOxS') else \"\"\n",
    "        discount = item.find('span', class_='IcOsH').get_text(strip=True) if item.find('span', class_='IcOsH') else \"\"\n",
    "        sold = item.find('span', class_='_1cEkb').get_text(strip=True) if item.find('span', class_='_1cEkb') else \"\"\n",
    "        data.append({'Name': name, 'Price': price, 'Discount': discount, 'Sold': sold, 'Link': link})\n",
    "\n",
    "    page_counter += 1\n",
    "    print(f\"Page {page_counter} scraped.\")\n",
    "\n",
    "    try:\n",
    "        next_button = WebDriverWait(driver, 10).until(\n",
    "            EC.element_to_be_clickable((By.CSS_SELECTOR, \".ant-pagination-next button\"))\n",
    "        )\n",
    "        driver.execute_script(\"arguments[0].click();\", next_button) \n",
    "    except:\n",
    "        break\n",
    "print(f\"Number Of Pages Scraped {max_pages}\")\n",
    "driver.quit()\n",
    "\n",
    "df = pd.DataFrame(data)\n",
    "df.to_csv('Task.csv', index=False)"
   ]
  },
  {
   "cell_type": "code",
   "execution_count": null,
   "id": "5b80354e",
   "metadata": {},
   "outputs": [],
   "source": []
  }
 ],
 "metadata": {
  "kernelspec": {
   "display_name": "Python 3 (ipykernel)",
   "language": "python",
   "name": "python3"
  },
  "language_info": {
   "codemirror_mode": {
    "name": "ipython",
    "version": 3
   },
   "file_extension": ".py",
   "mimetype": "text/x-python",
   "name": "python",
   "nbconvert_exporter": "python",
   "pygments_lexer": "ipython3",
   "version": "3.11.4"
  }
 },
 "nbformat": 4,
 "nbformat_minor": 5
}
