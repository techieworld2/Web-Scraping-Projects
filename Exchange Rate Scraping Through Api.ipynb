{
 "cells": [
  {
   "cell_type": "code",
   "execution_count": 6,
   "id": "adc15c97",
   "metadata": {},
   "outputs": [],
   "source": [
    "\n",
    "url = \"https://api.exchangerate-api.com/v4/latest/USD\""
   ]
  },
  {
   "cell_type": "code",
   "execution_count": 7,
   "id": "2e794763",
   "metadata": {},
   "outputs": [],
   "source": [
    "import requests"
   ]
  },
  {
   "cell_type": "code",
   "execution_count": 8,
   "id": "1e5d71e0",
   "metadata": {},
   "outputs": [],
   "source": [
    "response = requests.get(url)"
   ]
  },
  {
   "cell_type": "code",
   "execution_count": 9,
   "id": "13f2e193",
   "metadata": {},
   "outputs": [
    {
     "data": {
      "text/plain": [
       "200"
      ]
     },
     "execution_count": 9,
     "metadata": {},
     "output_type": "execute_result"
    }
   ],
   "source": [
    "response.status_code"
   ]
  },
  {
   "cell_type": "code",
   "execution_count": 10,
   "id": "91e9894d",
   "metadata": {},
   "outputs": [],
   "source": [
    "data = response.json()"
   ]
  },
  {
   "cell_type": "code",
   "execution_count": 11,
   "id": "5bb962eb",
   "metadata": {},
   "outputs": [
    {
     "data": {
      "text/plain": [
       "{'provider': 'https://www.exchangerate-api.com',\n",
       " 'WARNING_UPGRADE_TO_V6': 'https://www.exchangerate-api.com/docs/free',\n",
       " 'terms': 'https://www.exchangerate-api.com/terms',\n",
       " 'base': 'USD',\n",
       " 'date': '2023-11-12',\n",
       " 'time_last_updated': 1699747201,\n",
       " 'rates': {'USD': 1,\n",
       "  'AED': 3.67,\n",
       "  'AFN': 73.56,\n",
       "  'ALL': 98.16,\n",
       "  'AMD': 402.6,\n",
       "  'ANG': 1.79,\n",
       "  'AOA': 836.86,\n",
       "  'ARS': 350,\n",
       "  'AUD': 1.57,\n",
       "  'AWG': 1.79,\n",
       "  'AZN': 1.7,\n",
       "  'BAM': 1.83,\n",
       "  'BBD': 2,\n",
       "  'BDT': 110.23,\n",
       "  'BGN': 1.83,\n",
       "  'BHD': 0.376,\n",
       "  'BIF': 2830.12,\n",
       "  'BMD': 1,\n",
       "  'BND': 1.36,\n",
       "  'BOB': 6.91,\n",
       "  'BRL': 4.92,\n",
       "  'BSD': 1,\n",
       "  'BTN': 83.32,\n",
       "  'BWP': 13.62,\n",
       "  'BYN': 3.27,\n",
       "  'BZD': 2,\n",
       "  'CAD': 1.38,\n",
       "  'CDF': 2480.06,\n",
       "  'CHF': 0.902,\n",
       "  'CLP': 914.39,\n",
       "  'CNY': 7.3,\n",
       "  'COP': 4087.67,\n",
       "  'CRC': 530.62,\n",
       "  'CUP': 24,\n",
       "  'CVE': 103.26,\n",
       "  'CZK': 22.94,\n",
       "  'DJF': 177.72,\n",
       "  'DKK': 6.99,\n",
       "  'DOP': 56.69,\n",
       "  'DZD': 134.93,\n",
       "  'EGP': 30.9,\n",
       "  'ERN': 15,\n",
       "  'ETB': 55.93,\n",
       "  'EUR': 0.936,\n",
       "  'FJD': 2.27,\n",
       "  'FKP': 0.818,\n",
       "  'FOK': 6.99,\n",
       "  'GBP': 0.818,\n",
       "  'GEL': 2.7,\n",
       "  'GGP': 0.818,\n",
       "  'GHS': 12.02,\n",
       "  'GIP': 0.818,\n",
       "  'GMD': 65.2,\n",
       "  'GNF': 8589.57,\n",
       "  'GTQ': 7.81,\n",
       "  'GYD': 209.28,\n",
       "  'HKD': 7.81,\n",
       "  'HNL': 24.65,\n",
       "  'HRK': 7.06,\n",
       "  'HTG': 132.77,\n",
       "  'HUF': 352.94,\n",
       "  'IDR': 15690.37,\n",
       "  'ILS': 3.86,\n",
       "  'IMP': 0.818,\n",
       "  'INR': 83.32,\n",
       "  'IQD': 1308.67,\n",
       "  'IRR': 41994.01,\n",
       "  'ISK': 141.93,\n",
       "  'JEP': 0.818,\n",
       "  'JMD': 155.88,\n",
       "  'JOD': 0.709,\n",
       "  'JPY': 151.41,\n",
       "  'KES': 152.25,\n",
       "  'KGS': 89.44,\n",
       "  'KHR': 4121.42,\n",
       "  'KID': 1.57,\n",
       "  'KMF': 460.72,\n",
       "  'KRW': 1318.26,\n",
       "  'KWD': 0.309,\n",
       "  'KYD': 0.833,\n",
       "  'KZT': 467.72,\n",
       "  'LAK': 20623.5,\n",
       "  'LBP': 15000,\n",
       "  'LKR': 327.18,\n",
       "  'LRD': 190.17,\n",
       "  'LSL': 18.73,\n",
       "  'LYD': 4.87,\n",
       "  'MAD': 10.22,\n",
       "  'MDL': 17.91,\n",
       "  'MGA': 4522.84,\n",
       "  'MKD': 57.58,\n",
       "  'MMK': 2095.56,\n",
       "  'MNT': 3469.72,\n",
       "  'MOP': 8.04,\n",
       "  'MRU': 39.58,\n",
       "  'MUR': 44.08,\n",
       "  'MVR': 15.43,\n",
       "  'MWK': 1471.11,\n",
       "  'MXN': 17.7,\n",
       "  'MYR': 4.7,\n",
       "  'MZN': 63.89,\n",
       "  'NAD': 18.73,\n",
       "  'NGN': 834.58,\n",
       "  'NIO': 36.52,\n",
       "  'NOK': 11.12,\n",
       "  'NPR': 133.31,\n",
       "  'NZD': 1.7,\n",
       "  'OMR': 0.384,\n",
       "  'PAB': 1,\n",
       "  'PEN': 3.79,\n",
       "  'PGK': 3.7,\n",
       "  'PHP': 55.88,\n",
       "  'PKR': 284.64,\n",
       "  'PLN': 4.14,\n",
       "  'PYG': 7375.85,\n",
       "  'QAR': 3.64,\n",
       "  'RON': 4.65,\n",
       "  'RSD': 109.79,\n",
       "  'RUB': 92.34,\n",
       "  'RWF': 1267.16,\n",
       "  'SAR': 3.75,\n",
       "  'SBD': 8.47,\n",
       "  'SCR': 13.35,\n",
       "  'SDG': 606.34,\n",
       "  'SEK': 10.91,\n",
       "  'SGD': 1.36,\n",
       "  'SHP': 0.818,\n",
       "  'SLE': 22.69,\n",
       "  'SLL': 22688.17,\n",
       "  'SOS': 571.7,\n",
       "  'SRD': 38.1,\n",
       "  'SSP': 1054.23,\n",
       "  'STN': 22.94,\n",
       "  'SYP': 12909.21,\n",
       "  'SZL': 18.73,\n",
       "  'THB': 35.89,\n",
       "  'TJS': 10.95,\n",
       "  'TMT': 3.5,\n",
       "  'TND': 3.15,\n",
       "  'TOP': 2.35,\n",
       "  'TRY': 28.57,\n",
       "  'TTD': 6.74,\n",
       "  'TVD': 1.57,\n",
       "  'TWD': 32.32,\n",
       "  'TZS': 2511.51,\n",
       "  'UAH': 36.08,\n",
       "  'UGX': 3770.04,\n",
       "  'UYU': 39.84,\n",
       "  'UZS': 12300.19,\n",
       "  'VES': 35.37,\n",
       "  'VND': 24326.55,\n",
       "  'VUV': 121.42,\n",
       "  'WST': 2.77,\n",
       "  'XAF': 614.29,\n",
       "  'XCD': 2.7,\n",
       "  'XDR': 0.76,\n",
       "  'XOF': 614.29,\n",
       "  'XPF': 111.75,\n",
       "  'YER': 249.65,\n",
       "  'ZAR': 18.73,\n",
       "  'ZMW': 22.72,\n",
       "  'ZWL': 5823.39}}"
      ]
     },
     "execution_count": 11,
     "metadata": {},
     "output_type": "execute_result"
    }
   ],
   "source": [
    "data"
   ]
  },
  {
   "cell_type": "code",
   "execution_count": 12,
   "id": "fbe07b81",
   "metadata": {},
   "outputs": [
    {
     "data": {
      "text/plain": [
       "{'USD': 1,\n",
       " 'AED': 3.67,\n",
       " 'AFN': 73.56,\n",
       " 'ALL': 98.16,\n",
       " 'AMD': 402.6,\n",
       " 'ANG': 1.79,\n",
       " 'AOA': 836.86,\n",
       " 'ARS': 350,\n",
       " 'AUD': 1.57,\n",
       " 'AWG': 1.79,\n",
       " 'AZN': 1.7,\n",
       " 'BAM': 1.83,\n",
       " 'BBD': 2,\n",
       " 'BDT': 110.23,\n",
       " 'BGN': 1.83,\n",
       " 'BHD': 0.376,\n",
       " 'BIF': 2830.12,\n",
       " 'BMD': 1,\n",
       " 'BND': 1.36,\n",
       " 'BOB': 6.91,\n",
       " 'BRL': 4.92,\n",
       " 'BSD': 1,\n",
       " 'BTN': 83.32,\n",
       " 'BWP': 13.62,\n",
       " 'BYN': 3.27,\n",
       " 'BZD': 2,\n",
       " 'CAD': 1.38,\n",
       " 'CDF': 2480.06,\n",
       " 'CHF': 0.902,\n",
       " 'CLP': 914.39,\n",
       " 'CNY': 7.3,\n",
       " 'COP': 4087.67,\n",
       " 'CRC': 530.62,\n",
       " 'CUP': 24,\n",
       " 'CVE': 103.26,\n",
       " 'CZK': 22.94,\n",
       " 'DJF': 177.72,\n",
       " 'DKK': 6.99,\n",
       " 'DOP': 56.69,\n",
       " 'DZD': 134.93,\n",
       " 'EGP': 30.9,\n",
       " 'ERN': 15,\n",
       " 'ETB': 55.93,\n",
       " 'EUR': 0.936,\n",
       " 'FJD': 2.27,\n",
       " 'FKP': 0.818,\n",
       " 'FOK': 6.99,\n",
       " 'GBP': 0.818,\n",
       " 'GEL': 2.7,\n",
       " 'GGP': 0.818,\n",
       " 'GHS': 12.02,\n",
       " 'GIP': 0.818,\n",
       " 'GMD': 65.2,\n",
       " 'GNF': 8589.57,\n",
       " 'GTQ': 7.81,\n",
       " 'GYD': 209.28,\n",
       " 'HKD': 7.81,\n",
       " 'HNL': 24.65,\n",
       " 'HRK': 7.06,\n",
       " 'HTG': 132.77,\n",
       " 'HUF': 352.94,\n",
       " 'IDR': 15690.37,\n",
       " 'ILS': 3.86,\n",
       " 'IMP': 0.818,\n",
       " 'INR': 83.32,\n",
       " 'IQD': 1308.67,\n",
       " 'IRR': 41994.01,\n",
       " 'ISK': 141.93,\n",
       " 'JEP': 0.818,\n",
       " 'JMD': 155.88,\n",
       " 'JOD': 0.709,\n",
       " 'JPY': 151.41,\n",
       " 'KES': 152.25,\n",
       " 'KGS': 89.44,\n",
       " 'KHR': 4121.42,\n",
       " 'KID': 1.57,\n",
       " 'KMF': 460.72,\n",
       " 'KRW': 1318.26,\n",
       " 'KWD': 0.309,\n",
       " 'KYD': 0.833,\n",
       " 'KZT': 467.72,\n",
       " 'LAK': 20623.5,\n",
       " 'LBP': 15000,\n",
       " 'LKR': 327.18,\n",
       " 'LRD': 190.17,\n",
       " 'LSL': 18.73,\n",
       " 'LYD': 4.87,\n",
       " 'MAD': 10.22,\n",
       " 'MDL': 17.91,\n",
       " 'MGA': 4522.84,\n",
       " 'MKD': 57.58,\n",
       " 'MMK': 2095.56,\n",
       " 'MNT': 3469.72,\n",
       " 'MOP': 8.04,\n",
       " 'MRU': 39.58,\n",
       " 'MUR': 44.08,\n",
       " 'MVR': 15.43,\n",
       " 'MWK': 1471.11,\n",
       " 'MXN': 17.7,\n",
       " 'MYR': 4.7,\n",
       " 'MZN': 63.89,\n",
       " 'NAD': 18.73,\n",
       " 'NGN': 834.58,\n",
       " 'NIO': 36.52,\n",
       " 'NOK': 11.12,\n",
       " 'NPR': 133.31,\n",
       " 'NZD': 1.7,\n",
       " 'OMR': 0.384,\n",
       " 'PAB': 1,\n",
       " 'PEN': 3.79,\n",
       " 'PGK': 3.7,\n",
       " 'PHP': 55.88,\n",
       " 'PKR': 284.64,\n",
       " 'PLN': 4.14,\n",
       " 'PYG': 7375.85,\n",
       " 'QAR': 3.64,\n",
       " 'RON': 4.65,\n",
       " 'RSD': 109.79,\n",
       " 'RUB': 92.34,\n",
       " 'RWF': 1267.16,\n",
       " 'SAR': 3.75,\n",
       " 'SBD': 8.47,\n",
       " 'SCR': 13.35,\n",
       " 'SDG': 606.34,\n",
       " 'SEK': 10.91,\n",
       " 'SGD': 1.36,\n",
       " 'SHP': 0.818,\n",
       " 'SLE': 22.69,\n",
       " 'SLL': 22688.17,\n",
       " 'SOS': 571.7,\n",
       " 'SRD': 38.1,\n",
       " 'SSP': 1054.23,\n",
       " 'STN': 22.94,\n",
       " 'SYP': 12909.21,\n",
       " 'SZL': 18.73,\n",
       " 'THB': 35.89,\n",
       " 'TJS': 10.95,\n",
       " 'TMT': 3.5,\n",
       " 'TND': 3.15,\n",
       " 'TOP': 2.35,\n",
       " 'TRY': 28.57,\n",
       " 'TTD': 6.74,\n",
       " 'TVD': 1.57,\n",
       " 'TWD': 32.32,\n",
       " 'TZS': 2511.51,\n",
       " 'UAH': 36.08,\n",
       " 'UGX': 3770.04,\n",
       " 'UYU': 39.84,\n",
       " 'UZS': 12300.19,\n",
       " 'VES': 35.37,\n",
       " 'VND': 24326.55,\n",
       " 'VUV': 121.42,\n",
       " 'WST': 2.77,\n",
       " 'XAF': 614.29,\n",
       " 'XCD': 2.7,\n",
       " 'XDR': 0.76,\n",
       " 'XOF': 614.29,\n",
       " 'XPF': 111.75,\n",
       " 'YER': 249.65,\n",
       " 'ZAR': 18.73,\n",
       " 'ZMW': 22.72,\n",
       " 'ZWL': 5823.39}"
      ]
     },
     "execution_count": 12,
     "metadata": {},
     "output_type": "execute_result"
    }
   ],
   "source": [
    "data[\"rates\"]"
   ]
  },
  {
   "cell_type": "code",
   "execution_count": 13,
   "id": "14587216",
   "metadata": {},
   "outputs": [
    {
     "data": {
      "text/plain": [
       "<function dict.keys>"
      ]
     },
     "execution_count": 13,
     "metadata": {},
     "output_type": "execute_result"
    }
   ],
   "source": [
    "data.keys"
   ]
  },
  {
   "cell_type": "code",
   "execution_count": 14,
   "id": "2af9f99c",
   "metadata": {},
   "outputs": [
    {
     "data": {
      "text/plain": [
       "dict_keys(['provider', 'WARNING_UPGRADE_TO_V6', 'terms', 'base', 'date', 'time_last_updated', 'rates'])"
      ]
     },
     "execution_count": 14,
     "metadata": {},
     "output_type": "execute_result"
    }
   ],
   "source": [
    "data.keys()"
   ]
  },
  {
   "cell_type": "code",
   "execution_count": 15,
   "id": "29aa81d9",
   "metadata": {},
   "outputs": [],
   "source": [
    "def curr_conversion():\n",
    "    response  = requests.get(url)\n",
    "    data = response.json()\n",
    "    amount = 100\n",
    "    curr_conv = \"GBP\"\n",
    "    data[\"rates\"][curr_conv]*100"
   ]
  },
  {
   "cell_type": "markdown",
   "id": "878b1465",
   "metadata": {},
   "source": [
    "curr_conversion()"
   ]
  },
  {
   "cell_type": "code",
   "execution_count": 16,
   "id": "17b7a2a6",
   "metadata": {},
   "outputs": [],
   "source": [
    "def curr_conversion():\n",
    "    response  = requests.get(url)\n",
    "    data = response.json()\n",
    "    amount = 100\n",
    "    curr_conv = \"GBP\"\n",
    "    data[\"rates\"][curr_conv]*100\n",
    "    return \"anas\""
   ]
  },
  {
   "cell_type": "code",
   "execution_count": 17,
   "id": "7de0100e",
   "metadata": {},
   "outputs": [
    {
     "data": {
      "text/plain": [
       "'anas'"
      ]
     },
     "execution_count": 17,
     "metadata": {},
     "output_type": "execute_result"
    }
   ],
   "source": [
    "curr_conversion()"
   ]
  },
  {
   "cell_type": "code",
   "execution_count": 18,
   "id": "3dd5455f",
   "metadata": {},
   "outputs": [],
   "source": [
    "def curr_conversion(amount):\n",
    "    response  = requests.get(url)\n",
    "    data = response.json()\n",
    "    #amount = input(\"Enter amount\")\n",
    "    curr_conv = \"GBP\"\n",
    "    rate = data[\"rates\"][curr_conv]*int(amount)\n",
    "    return rate"
   ]
  },
  {
   "cell_type": "code",
   "execution_count": 19,
   "id": "18fbb8d5",
   "metadata": {},
   "outputs": [
    {
     "data": {
      "text/plain": [
       "94.07"
      ]
     },
     "execution_count": 19,
     "metadata": {},
     "output_type": "execute_result"
    }
   ],
   "source": [
    "curr_conversion(115)"
   ]
  },
  {
   "cell_type": "markdown",
   "id": "b846edff",
   "metadata": {},
   "source": [
    "dono tareekay amount dynamically lene ky"
   ]
  },
  {
   "cell_type": "code",
   "execution_count": 20,
   "id": "66f5fb2a",
   "metadata": {},
   "outputs": [],
   "source": [
    "def curr_conversion(amount,target_curr):\n",
    "    response  = requests.get(url)\n",
    "    data = response.json()\n",
    "    #amount = input(\"Enter amount\")\n",
    "  #  curr_conv = \"GBP\"\n",
    "    rate = data[\"rates\"][target_curr]*int(amount)\n",
    "    return target_curr + \" \" + str(rate)"
   ]
  },
  {
   "cell_type": "code",
   "execution_count": 21,
   "id": "cf0679b3",
   "metadata": {},
   "outputs": [
    {
     "data": {
      "text/plain": [
       "'PKR 82545.59999999999'"
      ]
     },
     "execution_count": 21,
     "metadata": {},
     "output_type": "execute_result"
    }
   ],
   "source": [
    "curr_conversion(290,\"PKR\")"
   ]
  },
  {
   "cell_type": "code",
   "execution_count": 22,
   "id": "2112c66a",
   "metadata": {},
   "outputs": [],
   "source": [
    "import json\n"
   ]
  },
  {
   "cell_type": "code",
   "execution_count": 23,
   "id": "aa1dea88",
   "metadata": {},
   "outputs": [],
   "source": [
    "with open(\"sales.json\") as f:\n",
    "    sales = json.load(f)"
   ]
  },
  {
   "cell_type": "code",
   "execution_count": 24,
   "id": "eb6b87a4",
   "metadata": {},
   "outputs": [
    {
     "data": {
      "text/plain": [
       "{'3942': {'purchase_total': 100.5, 'currency': 'CAD'},\n",
       " '8791': {'purchase_total': 75.25, 'currency': 'EUR'},\n",
       " '5623': {'purchase_total': 50.75, 'currency': 'GBP'},\n",
       " '1234': {'purchase_total': 200.1, 'currency': 'USD'},\n",
       " '5678': {'purchase_total': 150.75, 'currency': 'JPY'},\n",
       " '9876': {'purchase_total': 300.5, 'currency': 'CAD'},\n",
       " '2457': {'purchase_total': 80.0, 'currency': 'USD'},\n",
       " '7365': {'purchase_total': 55.25, 'currency': 'GBP'},\n",
       " '8910': {'purchase_total': 120.6, 'currency': 'CAD'},\n",
       " '4321': {'purchase_total': 180.25, 'currency': 'EUR'},\n",
       " '6789': {'purchase_total': 90.75, 'currency': 'JPY'},\n",
       " '5432': {'purchase_total': 250.9, 'currency': 'USD'},\n",
       " '1098': {'purchase_total': 70.25, 'currency': 'GBP'},\n",
       " '3647': {'purchase_total': 140.5, 'currency': 'CAD'},\n",
       " '2190': {'purchase_total': 95.8, 'currency': 'EUR'},\n",
       " '8765': {'purchase_total': 180.75, 'currency': 'JPY'},\n",
       " '9875': {'purchase_total': 210.25, 'currency': 'USD'},\n",
       " '1342': {'purchase_total': 65.5, 'currency': 'GBP'},\n",
       " '7690': {'purchase_total': 110.2, 'currency': 'CAD'},\n",
       " '2389': {'purchase_total': 155.35, 'currency': 'EUR'},\n",
       " '6574': {'purchase_total': 80.75, 'currency': 'JPY'},\n",
       " '9832': {'purchase_total': 280.4, 'currency': 'USD'},\n",
       " '3257': {'purchase_total': 60.25, 'currency': 'GBP'},\n",
       " '7194': {'purchase_total': 130.75, 'currency': 'CAD'},\n",
       " '8746': {'purchase_total': 175.9, 'currency': 'EUR'},\n",
       " '2019': {'purchase_total': 85.75, 'currency': 'JPY'},\n",
       " '5437': {'purchase_total': 195.25, 'currency': 'USD'},\n",
       " '1025': {'purchase_total': 50.5, 'currency': 'GBP'},\n",
       " '6932': {'purchase_total': 120.3, 'currency': 'CAD'}}"
      ]
     },
     "execution_count": 24,
     "metadata": {},
     "output_type": "execute_result"
    }
   ],
   "source": [
    "sales"
   ]
  },
  {
   "cell_type": "code",
   "execution_count": 25,
   "id": "57719675",
   "metadata": {},
   "outputs": [
    {
     "data": {
      "text/plain": [
       "dict_keys(['3942', '8791', '5623', '1234', '5678', '9876', '2457', '7365', '8910', '4321', '6789', '5432', '1098', '3647', '2190', '8765', '9875', '1342', '7690', '2389', '6574', '9832', '3257', '7194', '8746', '2019', '5437', '1025', '6932'])"
      ]
     },
     "execution_count": 25,
     "metadata": {},
     "output_type": "execute_result"
    }
   ],
   "source": [
    "sales.keys()"
   ]
  },
  {
   "cell_type": "code",
   "execution_count": 26,
   "id": "9ba3cb00",
   "metadata": {},
   "outputs": [
    {
     "name": "stdout",
     "output_type": "stream",
     "text": [
      "3942\n",
      "8791\n",
      "5623\n",
      "1234\n",
      "5678\n",
      "9876\n",
      "2457\n",
      "7365\n",
      "8910\n",
      "4321\n",
      "6789\n",
      "5432\n",
      "1098\n",
      "3647\n",
      "2190\n",
      "8765\n",
      "9875\n",
      "1342\n",
      "7690\n",
      "2389\n",
      "6574\n",
      "9832\n",
      "3257\n",
      "7194\n",
      "8746\n",
      "2019\n",
      "5437\n",
      "1025\n",
      "6932\n"
     ]
    }
   ],
   "source": [
    "for i in sales:\n",
    "    print(i)"
   ]
  },
  {
   "cell_type": "markdown",
   "id": "be8b9f64",
   "metadata": {},
   "source": [
    "by default keys print hongi\n"
   ]
  },
  {
   "cell_type": "code",
   "execution_count": 27,
   "id": "c3960d44",
   "metadata": {},
   "outputs": [
    {
     "name": "stdout",
     "output_type": "stream",
     "text": [
      "{'purchase_total': 100.5, 'currency': 'CAD'}\n",
      "{'purchase_total': 75.25, 'currency': 'EUR'}\n",
      "{'purchase_total': 50.75, 'currency': 'GBP'}\n",
      "{'purchase_total': 200.1, 'currency': 'USD'}\n",
      "{'purchase_total': 150.75, 'currency': 'JPY'}\n",
      "{'purchase_total': 300.5, 'currency': 'CAD'}\n",
      "{'purchase_total': 80.0, 'currency': 'USD'}\n",
      "{'purchase_total': 55.25, 'currency': 'GBP'}\n",
      "{'purchase_total': 120.6, 'currency': 'CAD'}\n",
      "{'purchase_total': 180.25, 'currency': 'EUR'}\n",
      "{'purchase_total': 90.75, 'currency': 'JPY'}\n",
      "{'purchase_total': 250.9, 'currency': 'USD'}\n",
      "{'purchase_total': 70.25, 'currency': 'GBP'}\n",
      "{'purchase_total': 140.5, 'currency': 'CAD'}\n",
      "{'purchase_total': 95.8, 'currency': 'EUR'}\n",
      "{'purchase_total': 180.75, 'currency': 'JPY'}\n",
      "{'purchase_total': 210.25, 'currency': 'USD'}\n",
      "{'purchase_total': 65.5, 'currency': 'GBP'}\n",
      "{'purchase_total': 110.2, 'currency': 'CAD'}\n",
      "{'purchase_total': 155.35, 'currency': 'EUR'}\n",
      "{'purchase_total': 80.75, 'currency': 'JPY'}\n",
      "{'purchase_total': 280.4, 'currency': 'USD'}\n",
      "{'purchase_total': 60.25, 'currency': 'GBP'}\n",
      "{'purchase_total': 130.75, 'currency': 'CAD'}\n",
      "{'purchase_total': 175.9, 'currency': 'EUR'}\n",
      "{'purchase_total': 85.75, 'currency': 'JPY'}\n",
      "{'purchase_total': 195.25, 'currency': 'USD'}\n",
      "{'purchase_total': 50.5, 'currency': 'GBP'}\n",
      "{'purchase_total': 120.3, 'currency': 'CAD'}\n"
     ]
    }
   ],
   "source": [
    "for v in sales.values():\n",
    "    print(v)"
   ]
  },
  {
   "cell_type": "code",
   "execution_count": 28,
   "id": "bd6e5edb",
   "metadata": {},
   "outputs": [
    {
     "name": "stdout",
     "output_type": "stream",
     "text": [
      "CAD 100.5\n",
      "EUR 75.25\n",
      "GBP 50.75\n",
      "USD 200.1\n",
      "JPY 150.75\n",
      "CAD 300.5\n",
      "USD 80.0\n",
      "GBP 55.25\n",
      "CAD 120.6\n",
      "EUR 180.25\n",
      "JPY 90.75\n",
      "USD 250.9\n",
      "GBP 70.25\n",
      "CAD 140.5\n",
      "EUR 95.8\n",
      "JPY 180.75\n",
      "USD 210.25\n",
      "GBP 65.5\n",
      "CAD 110.2\n",
      "EUR 155.35\n",
      "JPY 80.75\n",
      "USD 280.4\n",
      "GBP 60.25\n",
      "CAD 130.75\n",
      "EUR 175.9\n",
      "JPY 85.75\n",
      "USD 195.25\n",
      "GBP 50.5\n",
      "CAD 120.3\n"
     ]
    }
   ],
   "source": [
    "for v in sales.values():\n",
    "    purchase_total = v['purchase_total']\n",
    "    currency = v['currency']\n",
    "    print(currency,purchase_total)"
   ]
  },
  {
   "cell_type": "code",
   "execution_count": 29,
   "id": "f42cba00",
   "metadata": {},
   "outputs": [
    {
     "name": "stdout",
     "output_type": "stream",
     "text": [
      "72.82608695652175 CAD\n",
      "80.39529914529913 EUR\n",
      "62.04156479217604 GBP\n",
      "200.1 USD\n",
      "0.9956409748365366 JPY\n",
      "217.7536231884058 CAD\n",
      "80.0 USD\n",
      "67.54278728606357 GBP\n",
      "87.3913043478261 CAD\n",
      "192.57478632478632 EUR\n",
      "0.5993659599762236 JPY\n",
      "250.9 USD\n",
      "85.88019559902202 GBP\n",
      "101.81159420289856 CAD\n",
      "102.35042735042734 EUR\n",
      "1.193778482266693 JPY\n",
      "210.25 USD\n",
      "80.07334963325184 GBP\n",
      "79.85507246376812 CAD\n",
      "165.9722222222222 EUR\n",
      "0.5333201241661714 JPY\n",
      "280.4 USD\n",
      "73.65525672371639 GBP\n",
      "94.74637681159422 CAD\n",
      "187.92735042735043 EUR\n",
      "0.5663430420711975 JPY\n",
      "195.25 USD\n",
      "61.7359413202934 GBP\n",
      "87.17391304347827 CAD\n"
     ]
    }
   ],
   "source": [
    "for v in sales.values():\n",
    "    purchase_total = v['purchase_total']\n",
    "    currency = v['currency']\n",
    "    \n",
    "    exc_rates = data[\"rates\"][currency]\n",
    "    usd_amount = purchase_total/exc_rates\n",
    "    \n",
    "    print(usd_amount,currency)"
   ]
  },
  {
   "cell_type": "code",
   "execution_count": 76,
   "id": "61b2ac75",
   "metadata": {},
   "outputs": [],
   "source": [
    "total_sales_usd = 0\n",
    "for v in sales.values():\n",
    "    purchase_total = v['purchase_total']\n",
    "    currency = v['currency']\n",
    "    \n",
    "    exc_rates = data[\"rates\"][currency]\n",
    "    usd_amount = purchase_total/exc_rates\n",
    "    \n",
    "    total_sales_usd+=usd_amount\n",
    "    "
   ]
  },
  {
   "cell_type": "code",
   "execution_count": 77,
   "id": "75783af4",
   "metadata": {},
   "outputs": [
    {
     "data": {
      "text/plain": [
       "3122.4956004224186"
      ]
     },
     "execution_count": 77,
     "metadata": {},
     "output_type": "execute_result"
    }
   ],
   "source": [
    "total_sales_usd"
   ]
  },
  {
   "cell_type": "code",
   "execution_count": 114,
   "id": "cc6c59e4",
   "metadata": {},
   "outputs": [],
   "source": [
    "\n",
    "def usd_sales():\n",
    "    \"\"\"\n",
    "    THIS BUILD IS USED TO RETURN SALES IN REPORTING CURRECNCY\n",
    "    \n",
    "    \"\"\"\n",
    "    total_sales_usd = 0\n",
    "    for v in sales.values():\n",
    "        purchase_total = v['purchase_total']\n",
    "        currency = v['currency']\n",
    "\n",
    "        exc_rates = data[\"rates\"][currency]\n",
    "        usd_amount = purchase_total/exc_rates\n",
    "\n",
    "        total_sales_usd+=usd_amount       \n",
    "    return total_sales_usd\n"
   ]
  },
  {
   "cell_type": "code",
   "execution_count": 115,
   "id": "0d72bf3f",
   "metadata": {},
   "outputs": [
    {
     "data": {
      "text/plain": [
       "3122.4956004224186"
      ]
     },
     "execution_count": 115,
     "metadata": {},
     "output_type": "execute_result"
    }
   ],
   "source": [
    "usd_sales()"
   ]
  },
  {
   "cell_type": "code",
   "execution_count": 46,
   "id": "168ffd32",
   "metadata": {},
   "outputs": [
    {
     "ename": "SyntaxError",
     "evalue": "invalid syntax (3043779595.py, line 1)",
     "output_type": "error",
     "traceback": [
      "\u001b[1;36m  Cell \u001b[1;32mIn[46], line 1\u001b[1;36m\u001b[0m\n\u001b[1;33m    data[]\u001b[0m\n\u001b[1;37m         ^\u001b[0m\n\u001b[1;31mSyntaxError\u001b[0m\u001b[1;31m:\u001b[0m invalid syntax\n"
     ]
    }
   ],
   "source": [
    "data[]"
   ]
  },
  {
   "cell_type": "code",
   "execution_count": 47,
   "id": "1d3fc221",
   "metadata": {},
   "outputs": [
    {
     "data": {
      "text/plain": [
       "{'USD': 1,\n",
       " 'AED': 3.67,\n",
       " 'AFN': 73.56,\n",
       " 'ALL': 98.16,\n",
       " 'AMD': 402.6,\n",
       " 'ANG': 1.79,\n",
       " 'AOA': 836.86,\n",
       " 'ARS': 350,\n",
       " 'AUD': 1.57,\n",
       " 'AWG': 1.79,\n",
       " 'AZN': 1.7,\n",
       " 'BAM': 1.83,\n",
       " 'BBD': 2,\n",
       " 'BDT': 110.23,\n",
       " 'BGN': 1.83,\n",
       " 'BHD': 0.376,\n",
       " 'BIF': 2830.12,\n",
       " 'BMD': 1,\n",
       " 'BND': 1.36,\n",
       " 'BOB': 6.91,\n",
       " 'BRL': 4.92,\n",
       " 'BSD': 1,\n",
       " 'BTN': 83.32,\n",
       " 'BWP': 13.62,\n",
       " 'BYN': 3.27,\n",
       " 'BZD': 2,\n",
       " 'CAD': 1.38,\n",
       " 'CDF': 2480.06,\n",
       " 'CHF': 0.902,\n",
       " 'CLP': 914.39,\n",
       " 'CNY': 7.3,\n",
       " 'COP': 4087.67,\n",
       " 'CRC': 530.62,\n",
       " 'CUP': 24,\n",
       " 'CVE': 103.26,\n",
       " 'CZK': 22.94,\n",
       " 'DJF': 177.72,\n",
       " 'DKK': 6.99,\n",
       " 'DOP': 56.69,\n",
       " 'DZD': 134.93,\n",
       " 'EGP': 30.9,\n",
       " 'ERN': 15,\n",
       " 'ETB': 55.93,\n",
       " 'EUR': 0.936,\n",
       " 'FJD': 2.27,\n",
       " 'FKP': 0.818,\n",
       " 'FOK': 6.99,\n",
       " 'GBP': 0.818,\n",
       " 'GEL': 2.7,\n",
       " 'GGP': 0.818,\n",
       " 'GHS': 12.02,\n",
       " 'GIP': 0.818,\n",
       " 'GMD': 65.2,\n",
       " 'GNF': 8589.57,\n",
       " 'GTQ': 7.81,\n",
       " 'GYD': 209.28,\n",
       " 'HKD': 7.81,\n",
       " 'HNL': 24.65,\n",
       " 'HRK': 7.06,\n",
       " 'HTG': 132.77,\n",
       " 'HUF': 352.94,\n",
       " 'IDR': 15690.37,\n",
       " 'ILS': 3.86,\n",
       " 'IMP': 0.818,\n",
       " 'INR': 83.32,\n",
       " 'IQD': 1308.67,\n",
       " 'IRR': 41994.01,\n",
       " 'ISK': 141.93,\n",
       " 'JEP': 0.818,\n",
       " 'JMD': 155.88,\n",
       " 'JOD': 0.709,\n",
       " 'JPY': 151.41,\n",
       " 'KES': 152.25,\n",
       " 'KGS': 89.44,\n",
       " 'KHR': 4121.42,\n",
       " 'KID': 1.57,\n",
       " 'KMF': 460.72,\n",
       " 'KRW': 1318.26,\n",
       " 'KWD': 0.309,\n",
       " 'KYD': 0.833,\n",
       " 'KZT': 467.72,\n",
       " 'LAK': 20623.5,\n",
       " 'LBP': 15000,\n",
       " 'LKR': 327.18,\n",
       " 'LRD': 190.17,\n",
       " 'LSL': 18.73,\n",
       " 'LYD': 4.87,\n",
       " 'MAD': 10.22,\n",
       " 'MDL': 17.91,\n",
       " 'MGA': 4522.84,\n",
       " 'MKD': 57.58,\n",
       " 'MMK': 2095.56,\n",
       " 'MNT': 3469.72,\n",
       " 'MOP': 8.04,\n",
       " 'MRU': 39.58,\n",
       " 'MUR': 44.08,\n",
       " 'MVR': 15.43,\n",
       " 'MWK': 1471.11,\n",
       " 'MXN': 17.7,\n",
       " 'MYR': 4.7,\n",
       " 'MZN': 63.89,\n",
       " 'NAD': 18.73,\n",
       " 'NGN': 834.58,\n",
       " 'NIO': 36.52,\n",
       " 'NOK': 11.12,\n",
       " 'NPR': 133.31,\n",
       " 'NZD': 1.7,\n",
       " 'OMR': 0.384,\n",
       " 'PAB': 1,\n",
       " 'PEN': 3.79,\n",
       " 'PGK': 3.7,\n",
       " 'PHP': 55.88,\n",
       " 'PKR': 284.64,\n",
       " 'PLN': 4.14,\n",
       " 'PYG': 7375.85,\n",
       " 'QAR': 3.64,\n",
       " 'RON': 4.65,\n",
       " 'RSD': 109.79,\n",
       " 'RUB': 92.34,\n",
       " 'RWF': 1267.16,\n",
       " 'SAR': 3.75,\n",
       " 'SBD': 8.47,\n",
       " 'SCR': 13.35,\n",
       " 'SDG': 606.34,\n",
       " 'SEK': 10.91,\n",
       " 'SGD': 1.36,\n",
       " 'SHP': 0.818,\n",
       " 'SLE': 22.69,\n",
       " 'SLL': 22688.17,\n",
       " 'SOS': 571.7,\n",
       " 'SRD': 38.1,\n",
       " 'SSP': 1054.23,\n",
       " 'STN': 22.94,\n",
       " 'SYP': 12909.21,\n",
       " 'SZL': 18.73,\n",
       " 'THB': 35.89,\n",
       " 'TJS': 10.95,\n",
       " 'TMT': 3.5,\n",
       " 'TND': 3.15,\n",
       " 'TOP': 2.35,\n",
       " 'TRY': 28.57,\n",
       " 'TTD': 6.74,\n",
       " 'TVD': 1.57,\n",
       " 'TWD': 32.32,\n",
       " 'TZS': 2511.51,\n",
       " 'UAH': 36.08,\n",
       " 'UGX': 3770.04,\n",
       " 'UYU': 39.84,\n",
       " 'UZS': 12300.19,\n",
       " 'VES': 35.37,\n",
       " 'VND': 24326.55,\n",
       " 'VUV': 121.42,\n",
       " 'WST': 2.77,\n",
       " 'XAF': 614.29,\n",
       " 'XCD': 2.7,\n",
       " 'XDR': 0.76,\n",
       " 'XOF': 614.29,\n",
       " 'XPF': 111.75,\n",
       " 'YER': 249.65,\n",
       " 'ZAR': 18.73,\n",
       " 'ZMW': 22.72,\n",
       " 'ZWL': 5823.39}"
      ]
     },
     "execution_count": 47,
     "metadata": {},
     "output_type": "execute_result"
    }
   ],
   "source": [
    "data[\"rates\"]"
   ]
  },
  {
   "cell_type": "code",
   "execution_count": 48,
   "id": "07e452e4",
   "metadata": {},
   "outputs": [
    {
     "data": {
      "text/plain": [
       "284.64"
      ]
     },
     "execution_count": 48,
     "metadata": {},
     "output_type": "execute_result"
    }
   ],
   "source": [
    "data[\"rates\"][\"PKR\"]"
   ]
  },
  {
   "cell_type": "code",
   "execution_count": null,
   "id": "d3a9bc67",
   "metadata": {},
   "outputs": [],
   "source": [
    "def weakest_curr(url):\n",
    "    data = requests.get(url).json()\n",
    "    weakest_rate = 0\n",
    "    weakest_curr_code = \"\"\n",
    "    \n",
    "    rates = data[\"rates\"]\n",
    "    \n",
    "    for country_code in rates:\n",
    "        exch_rate = rates[country_code]\n",
    "        \n",
    "        if exch_rate > weakest_rate:\n",
    "            weakest_rate = exch_rate\n",
    "            weakest_curr_code = country_code\n",
    "            \n",
    "    return weakest_rate"
   ]
  }
 ],
 "metadata": {
  "kernelspec": {
   "display_name": "Python 3 (ipykernel)",
   "language": "python",
   "name": "python3"
  },
  "language_info": {
   "codemirror_mode": {
    "name": "ipython",
    "version": 3
   },
   "file_extension": ".py",
   "mimetype": "text/x-python",
   "name": "python",
   "nbconvert_exporter": "python",
   "pygments_lexer": "ipython3",
   "version": "3.11.4"
  }
 },
 "nbformat": 4,
 "nbformat_minor": 5
}
